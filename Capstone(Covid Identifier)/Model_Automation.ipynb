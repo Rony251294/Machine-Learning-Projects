{
  "nbformat": 4,
  "nbformat_minor": 0,
  "metadata": {
    "colab": {
      "provenance": []
    },
    "kernelspec": {
      "name": "python3",
      "display_name": "Python 3"
    },
    "language_info": {
      "name": "python"
    }
  },
  "cells": [
    {
      "cell_type": "code",
      "execution_count": null,
      "metadata": {
        "id": "bKO6VFJXqhOs"
      },
      "outputs": [],
      "source": [
        "# Importing the libraries\n",
        "import numpy as np\n",
        "import pandas as pd"
      ]
    },
    {
      "cell_type": "code",
      "source": [
        "# Reading the file\n",
        "covid = pd.read_csv('corona_tested_006.csv', low_memory=False)"
      ],
      "metadata": {
        "id": "e-cHLAJirKm0"
      },
      "execution_count": null,
      "outputs": []
    },
    {
      "cell_type": "code",
      "source": [
        "# Consolidating the cases of True TRUE False FALSE\n",
        "covid = covid.applymap(lambda x: str(x).strip().capitalize())\n",
        "\n",
        "# Changing non binary values to NaN\n",
        "for column in covid.columns[2:]:\n",
        "  covid[column] = np.where(covid[column].isin(['None', 'Other']), np.nan, covid[column])"
      ],
      "metadata": {
        "id": "kTdYx24qwoBg"
      },
      "execution_count": null,
      "outputs": []
    },
    {
      "cell_type": "code",
      "source": [
        "# Creating pipeline to automate the process\n",
        "from sklearn.pipeline import Pipeline\n",
        "from sklearn.preprocessing import OneHotEncoder\n",
        "from sklearn.compose import ColumnTransformer\n",
        "from sklearn.impute import SimpleImputer\n",
        "from sklearn.preprocessing import OneHotEncoder\n",
        "\n",
        "# Pipline object\n",
        "pl = Pipeline(steps=[('mode_imputation', SimpleImputer(strategy='most_frequent')),\n",
        "                     ('One_hot_encode', OneHotEncoder(drop='first'))])\n",
        "\n",
        "# Column transformer object\n",
        "ct = ColumnTransformer(transformers=[('col_trans', pl, ['Cough_symptoms','Fever', 'Sore_throat', 'Shortness_of_breath',\n",
        "                                                        'Headache', 'Corona', 'Age_60_above', 'Sex', 'Known_contact'])], remainder='passthrough')\n",
        "\n",
        "covid_transformed = ct.fit_transform(covid.iloc[:, 2:])\n",
        "\n",
        "# Converting Sparse matrix to regular numpy array\n",
        "covid_transformed = covid_transformed.toarray()\n",
        "\n",
        "# creating dataframe out of transformed data\n",
        "covid_transformed = pd.DataFrame(covid_transformed, columns= ['Cough_symptoms_True', 'Fever_True', 'Sore_throat_True', 'Shortness_of_breath_True',\n",
        "                                                              'Headache_True', 'Corona_Positive', 'Age_60_above_Yes', 'Sex_Male', 'Known_contact_Contact with confirmed'])\n",
        "\n",
        "# Concatinating the first two columns\n",
        "covid_transformed_final = pd.concat([covid_transformed, covid.iloc[:, :2]], axis=1)\n"
      ],
      "metadata": {
        "id": "9cjMlCbRsHtB"
      },
      "execution_count": null,
      "outputs": []
    },
    {
      "cell_type": "code",
      "source": [
        "# Splitting the dataset in validation and test set\n",
        "\n",
        "#Convert 'Test_date' to datetime type\n",
        "covid_transformed_final['Test_date'] = pd.to_datetime(covid_transformed_final['Test_date'], format='%d-%m-%Y')\n",
        "\n",
        "# Slicing the data frame to create training and validation set\n",
        "train_validate_set = covid_transformed_final[(covid_transformed_final['Test_date'] >= '2020-03-11') &\n",
        "                                          (covid_transformed_final['Test_date'] <= '2020-04-16')]\n",
        "\n",
        "\n",
        "# Slicing the data frame to create test set\n",
        "test_set = covid_transformed_final[covid_transformed_final['Test_date'] >= '2020-04-17']"
      ],
      "metadata": {
        "id": "TLSW3YrrrYj-"
      },
      "execution_count": null,
      "outputs": []
    },
    {
      "cell_type": "code",
      "source": [
        "from joblib import dump, load\n",
        "from sklearn.metrics import accuracy_score, precision_score, recall_score, f1_score\n",
        "\n",
        "# loading the model\n",
        "identifier_model = load('Covid Identifier.joblib')\n",
        "\n",
        "# Choosing the features and label\n",
        "\n",
        "X_holdout = test_set.drop(['Ind_ID', 'Test_date', 'Corona_Positive','Cough_symptoms_True', 'Age_60_above_Yes', 'Sex_Male' ], axis=1)\n",
        "\n",
        "y_holdout = test_set['Corona_Positive']\n",
        "\n",
        "\n",
        "# Predicting the values\n",
        "y_holdout_pred = identifier_model.predict(X_holdout)\n",
        "\n",
        "# Checking the metrices\n",
        "\n",
        "print('Model performance ')\n",
        "\n",
        "print(f'- Acuuracy: {round(accuracy_score(y_holdout, y_holdout_pred),2)}')\n",
        "print(f'- F1 Score: {round(f1_score(y_holdout, y_holdout_pred),2)}')\n",
        "print(f'- Precision: {round(precision_score(y_holdout, y_holdout_pred),2)}')\n",
        "print(f'- Recall: {round(recall_score(y_holdout, y_holdout_pred),2)}')"
      ],
      "metadata": {
        "colab": {
          "base_uri": "https://localhost:8080/"
        },
        "id": "2kEqPHYexIxd",
        "outputId": "9faab08e-f3e9-4bcb-dd6b-6143233c5515"
      },
      "execution_count": null,
      "outputs": [
        {
          "output_type": "stream",
          "name": "stdout",
          "text": [
            "Model performance \n",
            "- Acuuracy: 0.99\n",
            "- F1 Score: 0.65\n",
            "- Precision: 0.76\n",
            "- Recall: 0.56\n"
          ]
        }
      ]
    }
  ]
}